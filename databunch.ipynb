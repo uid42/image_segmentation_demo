{
 "cells": [
  {
   "cell_type": "markdown",
   "metadata": {},
   "source": [
    "# import"
   ]
  },
  {
   "cell_type": "code",
   "execution_count": null,
   "metadata": {},
   "outputs": [],
   "source": [
    "#export\n",
    "from fastai.vision import *"
   ]
  },
  {
   "cell_type": "code",
   "execution_count": null,
   "metadata": {},
   "outputs": [],
   "source": [
    "#export\n",
    "import cv2"
   ]
  },
  {
   "cell_type": "code",
   "execution_count": null,
   "metadata": {},
   "outputs": [],
   "source": [
    "#export\n",
    "import os"
   ]
  },
  {
   "cell_type": "markdown",
   "metadata": {},
   "source": [
    "# functions"
   ]
  },
  {
   "cell_type": "code",
   "execution_count": null,
   "metadata": {},
   "outputs": [],
   "source": [
    "#export\n",
    "def get_y(x, ds_rootdir, imgdir, maskdir):\n",
    "    yfn = os.path.join(ds_rootdir, maskdir, '%s_mask%s' % (x.stem, x.suffix))\n",
    "    #print(yfn, x.stem, x.suffix)\n",
    "    return yfn"
   ]
  },
  {
   "cell_type": "code",
   "execution_count": 66,
   "metadata": {},
   "outputs": [],
   "source": [
    "#export\n",
    "def get_databunch(ds_root_dir = 'dataset_20200708', ds_imgdir = 'image'\n",
    "                  , ds_maskdir = 'mask', bs = 16, valid_pct = 0.2\n",
    "                  , device = torch.device('cpu')\n",
    "                  , transforms = get_transforms(max_zoom = 1.)):\n",
    "    '''\n",
    "    获取databunch\n",
    "    参数：\n",
    "        ds_root_dir：数据集的根目录\n",
    "        ds_imgdir：图片子目录\n",
    "        ds_maskdir: mask图片子目录\n",
    "        bs：batch_size\n",
    "        valid_pct:验证集百分比\n",
    "        device: 设备\n",
    "        transforms: 无缩放，其余默认参数。\n",
    "    返回值：\n",
    "        databunch\n",
    "    '''\n",
    "    data = SegmentationItemList.from_folder( \\\n",
    "                    os.path.join(ds_root_dir, ds_imgdir))\n",
    "    \n",
    "    data = data.split_by_rand_pct(valid_pct)\n",
    "    data = data.label_from_func( \\\n",
    "            partial(get_y, ds_rootdir = ds_root_dir, imgdir = ds_imgdir, maskdir = ds_maskdir) \\\n",
    "            , classes=['0', '255'])\n",
    "    \n",
    "    #import pdb; pdb.set_trace()\n",
    "    if transforms is not None:\n",
    "        data = data.transform(transforms, tfm_y = True)\n",
    "    data = data.databunch(bs=bs, num_workers = 0, device = device)\n",
    "    data = data.normalize(imagenet_stats)\n",
    "    \n",
    "    '''\n",
    "    data = (UnetSegmentationItemList\n",
    "        .from_folder(os.path.join(ds_root_dir, ds_imgdir))\n",
    "        .split_by_rand_pct(0.2)\n",
    "        .label_from_func(partial(get_y, ds_rootdir = ds_root_dir, imgdir = ds_imgdir, maskdir = ds_maskdir), classes=['0', '255'])\n",
    "        .transform(get_transforms(), tfm_y=True)\n",
    "        .databunch(bs=bs, num_workers = 0)\n",
    "        .normalize(imagenet_stats)\n",
    "       )\n",
    "    '''    \n",
    "    return data\n",
    "\n",
    "#data = get_databunch(bs = 4)\n",
    "#data.show_batch()"
   ]
  },
  {
   "cell_type": "markdown",
   "metadata": {},
   "source": [
    "# test"
   ]
  },
  {
   "cell_type": "code",
   "execution_count": 68,
   "metadata": {},
   "outputs": [],
   "source": [
    "device = torch.device('cuda')"
   ]
  },
  {
   "cell_type": "code",
   "execution_count": 70,
   "metadata": {
    "scrolled": false
   },
   "outputs": [],
   "source": [
    "data = get_databunch(bs = 4, device = device)"
   ]
  },
  {
   "cell_type": "code",
   "execution_count": null,
   "metadata": {},
   "outputs": [],
   "source": [
    "#用自定义的transform调用\n",
    "# data = get_databunch(bs = 4\n",
    "#     , transforms = get_transforms(max_zoom = 2.\n",
    "#                                   , max_rotate = 60.\n",
    "#                                   , max_lighting = 0.6\n",
    "#                                   , max_warp = 0.5))"
   ]
  },
  {
   "cell_type": "code",
   "execution_count": 71,
   "metadata": {},
   "outputs": [],
   "source": [
    "data = get_databunch(bs = 4, transforms = None)"
   ]
  },
  {
   "cell_type": "code",
   "execution_count": null,
   "metadata": {},
   "outputs": [],
   "source": [
    "data"
   ]
  },
  {
   "cell_type": "code",
   "execution_count": null,
   "metadata": {
    "scrolled": false
   },
   "outputs": [],
   "source": [
    "data.show_batch()"
   ]
  },
  {
   "cell_type": "code",
   "execution_count": null,
   "metadata": {
    "scrolled": false
   },
   "outputs": [],
   "source": [
    "data.show_batch(ds_type=DatasetType.Valid)"
   ]
  },
  {
   "cell_type": "code",
   "execution_count": 14,
   "metadata": {},
   "outputs": [],
   "source": [
    "idx = 0"
   ]
  },
  {
   "cell_type": "code",
   "execution_count": 73,
   "metadata": {},
   "outputs": [
    {
     "name": "stdout",
     "output_type": "stream",
     "text": [
      "0.625\n"
     ]
    }
   ],
   "source": [
    "empt = 0\n",
    "for i in range(len(data.valid_ds)):\n",
    "    na = data.train_ds[i][1].data.numpy()\n",
    "    na[na < 128] = 0\n",
    "    na[na >= 128] = 1\n",
    "    #print(na.sum(), na.sum() / 512 / 512)\n",
    "    #data.train_ds[idx][1]\n",
    "    if na.sum() / 512 / 512 < 0.04:\n",
    "        empt += 1\n",
    "print(empt / len(data.valid_ds))        "
   ]
  },
  {
   "cell_type": "markdown",
   "metadata": {},
   "source": [
    "# export"
   ]
  },
  {
   "cell_type": "code",
   "execution_count": null,
   "metadata": {},
   "outputs": [],
   "source": [
    "!python notebook2script.py --fname 'databunch.ipynb' --outputDir './exp/'"
   ]
  },
  {
   "cell_type": "code",
   "execution_count": null,
   "metadata": {},
   "outputs": [],
   "source": []
  }
 ],
 "metadata": {
  "kernelspec": {
   "display_name": "Python 3",
   "language": "python",
   "name": "python3"
  },
  "language_info": {
   "codemirror_mode": {
    "name": "ipython",
    "version": 3
   },
   "file_extension": ".py",
   "mimetype": "text/x-python",
   "name": "python",
   "nbconvert_exporter": "python",
   "pygments_lexer": "ipython3",
   "version": "3.7.2"
  }
 },
 "nbformat": 4,
 "nbformat_minor": 4
}
