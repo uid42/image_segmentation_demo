{
 "cells": [
  {
   "cell_type": "markdown",
   "metadata": {},
   "source": [
    "# import"
   ]
  },
  {
   "cell_type": "code",
   "execution_count": null,
   "metadata": {},
   "outputs": [],
   "source": [
    "#export\n",
    "from fastai.vision import *"
   ]
  },
  {
   "cell_type": "code",
   "execution_count": null,
   "metadata": {},
   "outputs": [],
   "source": [
    "#export\n",
    "import cv2"
   ]
  },
  {
   "cell_type": "code",
   "execution_count": null,
   "metadata": {},
   "outputs": [],
   "source": [
    "#export\n",
    "import os"
   ]
  },
  {
<<<<<<< HEAD
   "cell_type": "code",
   "execution_count": null,
   "metadata": {},
   "outputs": [],
   "source": [
    "import numpy as np"
   ]
  },
  {
   "cell_type": "markdown",
   "metadata": {},
   "source": [
    "# functions"
   ]
  },
  {
=======
>>>>>>> upstream/master
   "cell_type": "code",
   "execution_count": null,
   "metadata": {},
   "outputs": [],
   "source": [
    "# export\n",
    "import torch"
   ]
  },
  {
   "cell_type": "markdown",
   "metadata": {},
   "source": [
<<<<<<< HEAD
    "#export\n",
    "def imgp_CLAHE(pil_img):\n",
    "    '''\n",
    "    对图片进行限制对比度自适应直方图均衡化\n",
    "    '''\n",
    "    img = cv2.cvtColor(np.asarray(pil_img),cv2.COLOR_RGB2BGR)\n",
    "    #print(img.shape)\n",
    "    clahe = cv2.createCLAHE(clipLimit=4.0, tileGridSize=(8,8))\n",
    "    hsv = cv2.cvtColor(img, cv2.COLOR_BGR2HSV)\n",
    "    hsv[:, :, 2] = clahe.apply(hsv[:, :, 2])\n",
    "    img2 = cv2.cvtColor(hsv, cv2.COLOR_HSV2BGR)\n",
    "    ret = PIL.Image.fromarray(cv2.cvtColor(img2,cv2.COLOR_BGR2RGB))\n",
    "    return ret\n",
    "    "
=======
    "# functions"
>>>>>>> upstream/master
   ]
  },
  {
   "cell_type": "code",
   "execution_count": null,
   "metadata": {},
   "outputs": [],
   "source": [
    "#export\n",
<<<<<<< HEAD
    "def get_databunch(ds_root_dir = 'dataset_20200708', ds_imgdir = 'image'\n",
=======
    "def get_y(x, ds_rootdir, imgdir, maskdir):\n",
    "    yfn = os.path.join(ds_rootdir, maskdir, '%s_mask%s' % (x.stem, x.suffix))\n",
    "    #print(yfn, x.stem, x.suffix)\n",
    "    return yfn"
   ]
  },
  {
   "cell_type": "code",
   "execution_count": 164,
   "metadata": {},
   "outputs": [],
   "source": [
    "#export\n",
    "def get_databunch(ds_root_dir = 'dataset_20200708', device=torch.device('cuda'), ds_imgdir = 'image'\n",
>>>>>>> upstream/master
    "                  , ds_maskdir = 'mask', bs = 16, valid_pct = 0.2\n",
    "                  , device = torch.device('cpu')\n",
    "                  , transforms = get_transforms(max_zoom = 1.)\n",
    "                  , img_processor = []):\n",
    "    '''\n",
    "    获取databunch\n",
    "    参数：\n",
    "        ds_root_dir：数据集的根目录\n",
    "        ds_imgdir：图片子目录\n",
    "        ds_maskdir: mask图片子目录\n",
    "        bs：batch_size\n",
    "        valid_pct:验证集百分比\n",
    "        device: 设备\n",
    "        transforms: 无缩放，其余默认参数。\n",
    "        img_process: 图片处理。取值范围：\n",
    "            'CLAHE': 比度自适应直方图均衡化\n",
    "    返回值：\n",
    "        databunch\n",
    "    '''\n",
<<<<<<< HEAD
    "    def imgp_afteropen(pil_img, img_processor):\n",
    "        #import pdb; pdb.set_trace()\n",
    "        ret = pil_img\n",
    "        for imgp in img_processor:\n",
    "            if 'CLAHE' == imgp:\n",
    "                ret = imgp_CLAHE(ret)\n",
    "            else:\n",
    "                assert False, '没有实现'\n",
    "        return ret\n",
    "    \n",
    "    img_processor_func = None\n",
    "    if img_processor is not None and len(img_processor) > 0:\n",
    "        img_processor_func = partial(imgp_afteropen, img_processor = img_processor)\n",
    "        \n",
    "    #import pdb; pdb.set_trace()\n",
    "    data = SegmentationItemList.from_folder(os.path.join(ds_root_dir, ds_imgdir)\n",
    "                , after_open = img_processor_func)\n",
=======
    "    data = SegmentationItemList.from_folder( \\\n",
    "                    os.path.join(ds_root_dir, ds_imgdir))\n",
>>>>>>> upstream/master
    "    \n",
    "    data = data.split_by_rand_pct(valid_pct)\n",
    "    data = data.label_from_func( \\\n",
    "            partial(get_y, ds_rootdir = ds_root_dir, imgdir = ds_imgdir, maskdir = ds_maskdir) \\\n",
<<<<<<< HEAD
    "            , classes=['0', '1'])\n",
    "    \n",
    "    #import pdb; pdb.set_trace()\n",
    "    if transforms is not None:\n",
    "        data = data.transform(transforms, tfm_y = True)\n",
    "    data = data.databunch(bs=bs, num_workers = 0, device = device)\n",
=======
    "            , classes=['bg', 'water'])\n",
    "    \n",
    "    #import pdb; pdb.set_trace()\n",
    "    data = data.transform(transforms, tfm_y = True)\n",
    "    data = data.databunch(bs=bs, num_workers = 0, device=device)\n",
>>>>>>> upstream/master
    "    data = data.normalize(imagenet_stats)\n",
    "    return data\n"
   ]
  },
  {
   "cell_type": "markdown",
   "metadata": {},
   "source": [
    "# test"
   ]
  },
  {
   "cell_type": "code",
   "execution_count": null,
   "metadata": {},
   "outputs": [],
   "source": [
    "device = torch.device('cuda')"
   ]
  },
  {
   "cell_type": "code",
   "execution_count": null,
   "metadata": {},
   "outputs": [],
   "source": [
    "data = get_databunch(bs = 4, device = device\n",
    "        , ds_root_dir = 'label/dataset_20200713')"
   ]
  },
  {
   "cell_type": "code",
   "execution_count": null,
   "metadata": {
    "scrolled": false
   },
   "outputs": [],
   "source": [
    "#限制对比度自适应直方图均衡化\n",
    "data = get_databunch(bs = 4, device = device, transforms = None\n",
    "        , ds_root_dir = 'label/dataset_20200713', img_processor = ['CLAHE'])"
   ]
  },
  {
   "cell_type": "code",
   "execution_count": null,
   "metadata": {},
   "outputs": [],
   "source": [
    "data"
   ]
  },
  {
   "cell_type": "code",
   "execution_count": null,
   "metadata": {
    "scrolled": false
   },
   "outputs": [],
   "source": [
    "data.show_batch()"
   ]
  },
  {
   "cell_type": "code",
   "execution_count": null,
   "metadata": {
    "scrolled": false
   },
   "outputs": [],
   "source": [
    "data.show_batch(ds_type=DatasetType.Valid)"
   ]
  },
  {
   "cell_type": "code",
   "execution_count": null,
   "metadata": {},
   "outputs": [],
   "source": []
  },
  {
   "cell_type": "code",
   "execution_count": null,
   "metadata": {
    "scrolled": false
   },
   "outputs": [],
   "source": [
    "#统计一下空白图片数量\n",
    "empt = 0\n",
    "for i in range(len(data.valid_ds)):\n",
    "    na = data.valid_ds[i][1].data.numpy()\n",
    "    na[na < 1] = 0\n",
    "    na[na >= 1] = 1\n",
    "    #print(na.sum(), na.sum() / 512 / 512)\n",
    "    #data.train_ds[idx][1]\n",
    "    if na.sum() / 512 / 512 < 0.04:\n",
    "        empt += 1\n",
    "        print('empt', empt, i, na.sum(), na.sum() / 512 / 512)\n",
    "print(empt / len(data.valid_ds))        "
   ]
  },
  {
   "cell_type": "code",
   "execution_count": null,
   "metadata": {},
   "outputs": [],
   "source": []
  },
  {
   "cell_type": "code",
   "execution_count": null,
   "metadata": {},
   "outputs": [],
   "source": []
  },
  {
   "cell_type": "markdown",
   "metadata": {},
   "source": [
    "# export"
   ]
  },
  {
   "cell_type": "code",
   "execution_count": null,
   "metadata": {},
   "outputs": [],
   "source": [
    "!python notebook2script.py --fname 'databunch.ipynb' --outputDir './exp/'"
   ]
  },
  {
   "cell_type": "code",
   "execution_count": null,
   "metadata": {},
   "outputs": [],
   "source": []
  }
 ],
 "metadata": {
  "kernelspec": {
   "display_name": "Python 3",
   "language": "python",
   "name": "python3"
  },
  "language_info": {
   "codemirror_mode": {
    "name": "ipython",
    "version": 3
   },
   "file_extension": ".py",
   "mimetype": "text/x-python",
   "name": "python",
   "nbconvert_exporter": "python",
   "pygments_lexer": "ipython3",
   "version": "3.7.4"
  },
  "toc": {
   "base_numbering": 1,
   "nav_menu": {},
   "number_sections": true,
   "sideBar": true,
   "skip_h1_title": false,
   "title_cell": "Table of Contents",
   "title_sidebar": "Contents",
   "toc_cell": false,
   "toc_position": {},
   "toc_section_display": true,
   "toc_window_display": false
  }
 },
 "nbformat": 4,
 "nbformat_minor": 4
}
