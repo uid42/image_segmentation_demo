{
 "cells": [
  {
   "cell_type": "markdown",
   "metadata": {},
   "source": [
    "# import "
   ]
  },
  {
   "cell_type": "code",
   "execution_count": 1,
   "metadata": {},
   "outputs": [],
   "source": [
    "import cv2"
   ]
  },
  {
   "cell_type": "code",
   "execution_count": 2,
   "metadata": {},
   "outputs": [],
   "source": [
    "import random"
   ]
  },
  {
   "cell_type": "code",
   "execution_count": 3,
   "metadata": {},
   "outputs": [],
   "source": [
    "import os"
   ]
  },
  {
   "cell_type": "code",
   "execution_count": 24,
   "metadata": {},
   "outputs": [],
   "source": [
    "from fastprogress.fastprogress import progress_bar"
   ]
  },
  {
   "cell_type": "code",
   "execution_count": 25,
   "metadata": {},
   "outputs": [],
   "source": [
    "import numpy as np"
   ]
  },
  {
   "cell_type": "markdown",
   "metadata": {},
   "source": [
    "# functions"
   ]
  },
  {
   "cell_type": "code",
   "execution_count": 5,
   "metadata": {},
   "outputs": [],
   "source": [
    "# 关注的水体的灰度值。\n",
    "#0 未标注。 1 空地。 2 建筑 。3 水体。4 道路\n",
    "TYP_WATER = 3"
   ]
  },
  {
   "cell_type": "code",
   "execution_count": 6,
   "metadata": {},
   "outputs": [],
   "source": [
    "#水体占比在这个值一下的认为是空的\n",
    "BLANK_TH = 0.04"
   ]
  },
  {
   "cell_type": "code",
   "execution_count": 75,
   "metadata": {},
   "outputs": [],
   "source": [
    "def gen_dataset(imgfns, maskfns, output_dir = 'label/dataset_20200708', imgdir = 'image'\n",
    "                , maskdir = 'mask', img_sz = (512, 512), ds_sz = 1000, blank_pct = 0.2\n",
    "                , suffix = '.png', dbg = []):\n",
    "    '''\n",
    "    生成数据集\n",
    "    参数：\n",
    "        imgfns：大图片文件名列表\n",
    "        maskfns：对应的mask文件名列表。与上一个参数里面的文件一一对应\n",
    "        output_dir：输出数据集目录\n",
    "        imgdir：输出数据集中存放图片的子目录。\n",
    "        maskdir：输出数据集中存放mask图片的子目录\n",
    "        img_sz：提取的小图的大小,内容为(width, height)\n",
    "        ds_sz：生成图片数量\n",
    "        blank_pct：无水体图片数量比例\n",
    "        suffix：生成图片文件扩展名\n",
    "        dbg：调试用\n",
    "    '''\n",
    "    assert len(imgfns) == len(maskfns)\n",
    "    #检查创建目录\n",
    "    for sdir in ['', imgdir, maskdir]:\n",
    "        if not os.path.exists(os.path.join(output_dir, sdir)):\n",
    "            os.makedirs(os.path.join(output_dir, sdir))\n",
    "    total_cnt = 0#产出计数\n",
    "    imgs = []\n",
    "    for imgfn, maskfn in zip(imgfns, maskfns):\n",
    "        img = cv2.imread(imgfn)\n",
    "        mask = (cv2.imread(maskfn, cv2.IMREAD_GRAYSCALE) == TYP_WATER).astype(int) * 1\n",
    "        #print(imgfn, maskfn, img.shape, mask.shape)\n",
    "        assert img.shape[ : 2] == mask.shape[ : 2]\n",
    "        imgs += [(img, mask)]\n",
    "    \n",
    "    #当前大图需要产生的空白数据图片的数量\n",
    "    DS_SZ_BLANK = int(ds_sz * blank_pct)        \n",
    "    #需要产生的有效图片的数量\n",
    "    DS_SZ_VALID = ds_sz - DS_SZ_BLANK\n",
    "\n",
    "    validcnt = 0 #当前图片产生的数量\n",
    "    blankcnt = 0#当前产出的空白数据集的数量\n",
    "    #print('dbg1', DS_SZ_1IMG, DS_SZ_1IMG_BLANK, DS_SZ_1IMG_VALID)\n",
    "    \n",
    "    #随机生成一个问题是分类区域占比太少的情况下会导致前期生成的大部分都是空白图片。    #    \n",
    "    #RNDIDX=True，每次生成的图片名序号是随机数。分布在0-ds_sz之间。\n",
    "    #RNDIDX=False，每次生成的是不是空白是实现确定的，如果对不上就重新分割。\n",
    "    #会略微慢一些，可忽略，10000张耗时130s:134s。\n",
    "    RNDIDX = False    \n",
    "    gen_cats = [i for i in range(ds_sz)]    \n",
    "    random.shuffle(gen_cats)\n",
    "    #print('gen_idxs', gen_cats)\n",
    "    if RNDIDX:\n",
    "        gen_idxs = gen_cats#仅仅是名字看起来更合适\n",
    "    \n",
    "    pbar = progress_bar(range(ds_sz))\n",
    "    pbar.comment = '生成中'\n",
    "    for p in pbar:\n",
    "        while validcnt < DS_SZ_VALID or blankcnt < DS_SZ_BLANK:\n",
    "            idx = random.randint(0, 2)\n",
    "            #print(idx, imgfns[idx])\n",
    "            img, mask = imgs[idx]\n",
    "            dsx = random.randint(0, img.shape[0] - img_sz[1])\n",
    "            dsy = random.randint(0, img.shape[1] - img_sz[0])\n",
    "            dsimg = img[dsx : dsx + img_sz[1], dsy : dsy + img_sz[0]]            \n",
    "            dsmask = mask[dsx : dsx + img_sz[1], dsy : dsy + img_sz[0]]        \n",
    "            area = cv2.countNonZero(dsmask)\n",
    "            if not RNDIDX and RNDIDX is not None:\n",
    "                #本次想要生产的类别.用数值来确定。\n",
    "                cat = gen_cats[total_cnt]\n",
    "                #cat = np.random.randint(0, ds_sz)\n",
    "            \n",
    "            #根据比例判断一下是否有效的\n",
    "            if area / (img_sz[0] * img_sz[1]) > BLANK_TH:\n",
    "                #print(validcnt, total_cnt, ds_sz % len(imgfns))\n",
    "                #这次准备生成的是空白的，得到的是有内容的\n",
    "                if not RNDIDX and RNDIDX is not None:\n",
    "                    if cat < DS_SZ_BLANK:\n",
    "                        continue\n",
    "                #超过了数量的放弃.并且保证到达整数\n",
    "                if validcnt >= DS_SZ_VALID:\n",
    "                    continue\n",
    "                validcnt += 1\n",
    "            else:\n",
    "                #这次应该是有效内容，但是得到的是空白的\n",
    "                if not RNDIDX and RNDIDX is not None:\n",
    "                    if cat >= DS_SZ_BLANK:\n",
    "                        continue\n",
    "                if blankcnt >= DS_SZ_BLANK:\n",
    "                    continue\n",
    "                blankcnt += 1\n",
    "            \n",
    "            if RNDIDX:\n",
    "                cv2.imwrite(os.path.join(output_dir, imgdir, '%05d.%s' % (gen_idxs[total_cnt], suffix.split('.')[-1])), dsimg)\n",
    "                cv2.imwrite(os.path.join(output_dir, maskdir, '%05d_mask.%s' % (gen_idxs[total_cnt], suffix.split('.')[-1])), dsmask)\n",
    "            else:\n",
    "                cv2.imwrite(os.path.join(output_dir, imgdir, '%05d.%s' % (total_cnt, suffix.split('.')[-1])), dsimg)\n",
    "                cv2.imwrite(os.path.join(output_dir, maskdir, '%05d_mask.%s' % (total_cnt, suffix.split('.')[-1])), dsmask)\n",
    "\n",
    "            total_cnt += 1\n",
    "            break\n"
   ]
  },
  {
   "cell_type": "markdown",
   "metadata": {},
   "source": [
    "# test"
   ]
  },
  {
   "cell_type": "code",
   "execution_count": 70,
   "metadata": {},
   "outputs": [],
   "source": [
    "imgfns = ['data/src/image/1.png', 'data/src/image/2.png', 'data/src/image/3.png']"
   ]
  },
  {
   "cell_type": "code",
   "execution_count": 71,
   "metadata": {},
   "outputs": [],
   "source": [
    "maskimgfns = ['data/label/train1_labels_8bits.png', 'data/label/train2_labels_8bits.png'\n",
    "             , 'data/label/train3_labels_8bits.png']"
   ]
  },
  {
   "cell_type": "code",
   "execution_count": 76,
   "metadata": {
    "scrolled": false
   },
   "outputs": [
    {
     "data": {
      "text/html": [
       "\n",
       "    <div>\n",
       "        <style>\n",
       "            /* Turns off some styling */\n",
       "            progress {\n",
       "                /* gets rid of default border in Firefox and Opera. */\n",
       "                border: none;\n",
       "                /* Needs to be in here for Safari polyfill so background images work as expected. */\n",
       "                background-size: auto;\n",
       "            }\n",
       "            .progress-bar-interrupted, .progress-bar-interrupted::-webkit-progress-bar {\n",
       "                background: #F44336;\n",
       "            }\n",
       "        </style>\n",
       "      <progress value='1000' class='' max='1000', style='width:300px; height:20px; vertical-align: middle;'></progress>\n",
       "      100.00% [1000/1000 00:13<00:00 生成中]\n",
       "    </div>\n",
       "    "
      ],
      "text/plain": [
       "<IPython.core.display.HTML object>"
      ]
     },
     "metadata": {},
     "output_type": "display_data"
    }
   ],
   "source": [
    "gen_dataset(imgfns, maskimgfns, ds_sz = 1000, suffix='png', output_dir = 'label/dataset_20200713') "
   ]
  },
  {
   "cell_type": "markdown",
   "metadata": {},
   "source": [
    "# export"
   ]
  }
 ],
 "metadata": {
  "kernelspec": {
   "display_name": "Python 3",
   "language": "python",
   "name": "python3"
  },
  "language_info": {
   "codemirror_mode": {
    "name": "ipython",
    "version": 3
   },
   "file_extension": ".py",
   "mimetype": "text/x-python",
   "name": "python",
   "nbconvert_exporter": "python",
   "pygments_lexer": "ipython3",
   "version": "3.7.2"
  }
 },
 "nbformat": 4,
 "nbformat_minor": 4
}
