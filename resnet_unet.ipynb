{
 "cells": [
  {
   "cell_type": "code",
   "execution_count": 1,
   "metadata": {},
   "outputs": [],
   "source": [
    "%load_ext autoreload\n",
    "%autoreload 2\n",
    "\n",
    "%matplotlib inline"
   ]
  },
  {
   "cell_type": "markdown",
   "metadata": {},
   "source": [
    "下图：使用 ResNet50 作为 Encoder 的 Unet 结构"
   ]
  },
  {
   "cell_type": "markdown",
   "metadata": {},
   "source": [
    "<img src=\"./figs/res50_unet.jpg\" width = \"700\" align=center />"
   ]
  },
  {
   "cell_type": "markdown",
   "metadata": {
    "heading_collapsed": true
   },
   "source": [
    "# import"
   ]
  },
  {
   "cell_type": "code",
   "execution_count": 2,
   "metadata": {
    "hidden": true
   },
   "outputs": [],
   "source": [
    "# export\n",
    "import torchvision"
   ]
  },
  {
   "cell_type": "code",
   "execution_count": 3,
   "metadata": {
    "hidden": true
   },
   "outputs": [],
   "source": [
    "# export\n",
    "from torch import nn"
   ]
  },
  {
   "cell_type": "code",
   "execution_count": 4,
   "metadata": {
    "hidden": true
   },
   "outputs": [],
   "source": [
    "# export\n",
    "from torch.nn import functional as F"
   ]
  },
  {
   "cell_type": "code",
   "execution_count": 5,
   "metadata": {
    "hidden": true
   },
   "outputs": [],
   "source": [
    "# export\n",
    "import torch"
   ]
  },
  {
   "cell_type": "code",
   "execution_count": 6,
   "metadata": {
    "hidden": true
   },
   "outputs": [],
   "source": [
    "from IPython.core import debugger as idb"
   ]
  },
  {
   "cell_type": "markdown",
   "metadata": {},
   "source": [
    "# functions"
   ]
  },
  {
   "cell_type": "markdown",
   "metadata": {
    "heading_collapsed": true
   },
   "source": [
    "## Conv_Bn_ReLu"
   ]
  },
  {
   "cell_type": "code",
   "execution_count": 7,
   "metadata": {
    "hidden": true
   },
   "outputs": [],
   "source": [
    "# export\n",
    "class Conv_Bn_ReLu(nn.Module):\n",
    "    \"\"\"\n",
    "    Helper module that consists of a Conv -> BN -> ReLU\n",
    "    \"\"\"\n",
    "\n",
    "    def __init__(self, chin, chout, kernel_size=3, padding=1, stride=1, with_nonlinearity=True):\n",
    "        super().__init__()\n",
    "        self.conv = nn.Conv2d(chin, chout, padding=padding, kernel_size=kernel_size, stride=stride)\n",
    "        self.bn = nn.BatchNorm2d(chout)\n",
    "        self.with_nonlinearity = with_nonlinearity\n",
    "\n",
    "    def forward(self, x):\n",
    "        x = self.conv(x)\n",
    "        x = self.bn(x)\n",
    "        if self.with_nonlinearity:\n",
    "            x = F.relu(x)\n",
    "        return x\n"
   ]
  },
  {
   "cell_type": "markdown",
   "metadata": {
    "heading_collapsed": true
   },
   "source": [
    "## Bridge"
   ]
  },
  {
   "cell_type": "code",
   "execution_count": 8,
   "metadata": {
    "hidden": true
   },
   "outputs": [],
   "source": [
    "# export\n",
    "class Bridge(nn.Module):\n",
    "    \"\"\"\n",
    "    The part connect Encoder and Decoder\n",
    "    \"\"\"\n",
    "\n",
    "    def __init__(self, ch, with_shortcut):\n",
    "        super().__init__()\n",
    "        self.with_shortcut = with_shortcut\n",
    "        self.conv1 = Conv_Bn_ReLu(ch,ch)\n",
    "        if with_shortcut:\n",
    "            self.conv2 = Conv_Bn_ReLu(ch,ch,with_nonlinearity=False)\n",
    "        else:\n",
    "            self.conv2 = Conv_Bn_ReLu(ch,ch)\n",
    "            \n",
    "        self.initialize_BnPreAdd()\n",
    "        \n",
    "    \n",
    "    def initialize_BnPreAdd(self):\n",
    "        \"\"\"\n",
    "        如果有残差连接，则把与残差连接相加处初始化为0\n",
    "        \"\"\"\n",
    "        if self.with_shortcut:\n",
    "            nn.init.zeros_(self.conv2.bn.weight) \n",
    "    \n",
    "    def forward(self, x):\n",
    "        out = self.conv1(x)\n",
    "        out = self.conv2(x)\n",
    "        \n",
    "        if self.with_shortcut:\n",
    "            out += x\n",
    "            out = F.relu(out)\n",
    "        return out"
   ]
  },
  {
   "cell_type": "markdown",
   "metadata": {
    "heading_collapsed": true
   },
   "source": [
    "## UpBlock"
   ]
  },
  {
   "cell_type": "code",
   "execution_count": 9,
   "metadata": {
    "hidden": true
   },
   "outputs": [],
   "source": [
    "# export\n",
    "class UpBlock(nn.Module):\n",
    "    \"\"\"\n",
    "    Up block that encapsulates one up-sampling step which consists of Upsample -> ConvBlock -> ConvBlock\n",
    "    \"\"\"\n",
    "\n",
    "    def __init__(self, chin, chout, sideconnect='add', chside=None, upsample_method=\"conv_transpose\"):\n",
    "        \"\"\"\n",
    "        chin: input channel\n",
    "        chout: output channel\n",
    "        sideconnect: add/cat\n",
    "        chside: channel of side-connect feature\n",
    "        \"\"\"\n",
    "        super().__init__()\n",
    "        self.sideconnect=sideconnect\n",
    "        self.upsample_method = upsample_method\n",
    "        \n",
    "        if upsample_method == \"conv_transpose\":\n",
    "            self.upsample = nn.Sequential(\n",
    "                nn.ConvTranspose2d(chin, chout, kernel_size=2, stride=2, bias=False),\n",
    "                nn.BatchNorm2d(chout)\n",
    "            )  \n",
    "        elif upsampling_method == \"bilinear\":\n",
    "            self.upsample = nn.Sequential(\n",
    "                nn.Upsample(mode='bilinear', scale_factor=2),\n",
    "                Conv_Bn_ReLu(chin,chout,1,padding=0,with_nonlinearity=False)\n",
    "            )\n",
    "        if sideconnect=='add': \n",
    "            chmid = chout;\n",
    "        elif sideconnect=='cat': \n",
    "            chmid = chout + chside;\n",
    "        self.conv1 = Conv_Bn_ReLu(chmid, chout)\n",
    "        self.conv2 = Conv_Bn_ReLu(chout, chout)\n",
    "        \n",
    "        if sideconnect=='add':\n",
    "            self.initialize_BnPreAdd()\n",
    "            \n",
    "    \n",
    "    def initialize_BnPreAdd(self):\n",
    "        \"\"\"\n",
    "        如果侧向连接方式为add，则把与侧向连接相加处初始化为0\n",
    "        \"\"\"\n",
    "        if self.upsample_method == \"conv_transpose\":\n",
    "            nn.init.zeros_(self.upsample[1].weight)  \n",
    "        elif self.upsampling_method == \"bilinear\":\n",
    "            nn.init.zeros_(self.upsample[1].bn.weight)\n",
    "        \n",
    "        \n",
    "    def forward(self, upx, sidex):\n",
    "        \"\"\"\n",
    "        :param upx: this is the output from the previous up block\n",
    "        :param sidex: this is the output from the down block\n",
    "        :return: upsampled feature map\n",
    "        \"\"\"\n",
    "        x = self.upsample(upx)\n",
    "        if self.sideconnect=='add':\n",
    "            x = x + sidex;\n",
    "        elif self.sideconnect=='cat':\n",
    "            x = torch.cat([x,sidex], 1)\n",
    "        x = self.conv1(x)\n",
    "        x = self.conv2(x)\n",
    "        return x"
   ]
  },
  {
   "cell_type": "markdown",
   "metadata": {
    "heading_collapsed": true
   },
   "source": [
    "## Resnet_UNet"
   ]
  },
  {
   "cell_type": "code",
   "execution_count": 10,
   "metadata": {
    "code_folding": [],
    "hidden": true
   },
   "outputs": [],
   "source": [
    "# export\n",
    "class Resnet_UNet(nn.Module):\n",
    "    \"\"\"\n",
    "    以resnet为encoder的unet网络。而且在侧向连接中都使用了与resnet相似的方式，也可以选择用原unet的方式。\n",
    "    \"\"\"\n",
    "    def __init__(self, \n",
    "                 resnet=torchvision.models.resnet.resnet50(pretrained=True), \n",
    "                 dwpath_chs = [3,   64,  256, 512, 1024, 2048],\n",
    "                 uppath_chs = [128, 128, 256, 512, 1024, 2048],\n",
    "                 bridge_shortcut = False,\n",
    "                 side_connect = 'cat',\n",
    "                 upsample_method = \"conv_transpose\",\n",
    "                 n_classes=2):\n",
    "        super().__init__()\n",
    "        \n",
    "        down_blocks = []\n",
    "        down_blocks.append(nn.Sequential(resnet.conv1, resnet.bn1, resnet.relu))\n",
    "        down_blocks.append(nn.Sequential(resnet.maxpool, resnet.layer1))\n",
    "        down_blocks.append(resnet.layer2)\n",
    "        down_blocks.append(resnet.layer3)\n",
    "        down_blocks.append(resnet.layer4)\n",
    "        self.down_blocks = nn.ModuleList(down_blocks)\n",
    "        \n",
    "        self.bridge = Bridge(uppath_chs[-1], with_shortcut=bridge_shortcut)\n",
    "        \n",
    "        if side_connect=='add':\n",
    "            side_layers = []\n",
    "            for  dwch, upch in zip(dwpath_chs[:-1], uppath_chs[:-1]):\n",
    "                side_layers.append(Conv_Bn_ReLu(dwch,upch,1,padding=0,with_nonlinearity=False))\n",
    "            self.side_layers = nn.ModuleList(side_layers)\n",
    "            side_chs = uppath_chs\n",
    "        else:\n",
    "            self.side_layers = None\n",
    "            side_chs = dwpath_chs\n",
    "        \n",
    "        up_blocks = []\n",
    "        for i in range(5,0,-1):\n",
    "            up_blocks.append(UpBlock(uppath_chs[i], uppath_chs[i-1], side_connect, side_chs[i-1], upsample_method))\n",
    "        self.up_blocks = nn.ModuleList(up_blocks)\n",
    "\n",
    "        self.head = nn.Conv2d(uppath_chs[0], n_classes, kernel_size=1, stride=1)\n",
    "        \n",
    "        \n",
    "    def forward(self, x, with_output_feature_map=False):\n",
    "        sides = []\n",
    "        for m in self.down_blocks:\n",
    "            sides.append(x)\n",
    "            x = m(x)\n",
    "        \n",
    "        x = self.bridge(x)\n",
    "        \n",
    "        if self.side_layers is not None:\n",
    "            for i,m in enumerate(self.side_layers):\n",
    "                sides[i] = m(sides[i])\n",
    "\n",
    "        for m, sidex in zip(self.up_blocks,sides[-1::-1]):\n",
    "            x = m(x,sidex)\n",
    "\n",
    "        x = self.head(x)\n",
    "        return x"
   ]
  },
  {
   "cell_type": "markdown",
   "metadata": {
    "heading_collapsed": true
   },
   "source": [
    "## unet_res18"
   ]
  },
  {
   "cell_type": "code",
   "execution_count": 11,
   "metadata": {
    "hidden": true
   },
   "outputs": [],
   "source": [
    "# export\n",
    "def get_unet_res18(n_class, allres=True):\n",
    "    \"\"\"\n",
    "    allres: all residual connect\n",
    "    allres=True: 在侧向连接中都使用如 resnet 的方式，包括在bridge中加入shortcut，各层shortcut的融合中使用add而非concatenate\n",
    "    allres=False: 所有侧向连接中都是原unet的方式\n",
    "    \n",
    "    \"\"\"\n",
    "    if allres:\n",
    "        side_connect = 'add'\n",
    "        bridge_shortcut = True\n",
    "    else:\n",
    "        side_connect = 'cat'\n",
    "        bridge_shortcut = False\n",
    "    \n",
    "    res = Resnet_UNet( resnet=torchvision.models.resnet.resnet18(pretrained=True), \n",
    "                       dwpath_chs = [3,    64,  64, 128, 256, 512],\n",
    "                       uppath_chs = [128, 128, 128, 128, 256, 512],\n",
    "                       bridge_shortcut = bridge_shortcut,\n",
    "                       side_connect = side_connect,\n",
    "                       upsample_method = \"conv_transpose\",\n",
    "                       n_classes=n_class)\n",
    "    return res"
   ]
  },
  {
   "cell_type": "markdown",
   "metadata": {
    "heading_collapsed": true
   },
   "source": [
    "## unet_res34"
   ]
  },
  {
   "cell_type": "code",
   "execution_count": 12,
   "metadata": {
    "hidden": true
   },
   "outputs": [],
   "source": [
    "# export\n",
    "def get_unet_res34(n_class, allres=True):\n",
    "    \"\"\"\n",
    "    allres: all residual connect\n",
    "    allres=True: 在侧向连接中都使用如 resnet 的方式，包括在bridge中加入shortcut，各层shortcut的融合中使用add而非concatenate\n",
    "    allres=False: 所有侧向连接中都是原unet的方式\n",
    "    \n",
    "    \"\"\"\n",
    "    if allres:\n",
    "        side_connect = 'add'\n",
    "        bridge_shortcut = True\n",
    "    else:\n",
    "        side_connect = 'cat'\n",
    "        bridge_shortcut = False\n",
    "    \n",
    "    res = Resnet_UNet( resnet=torchvision.models.resnet.resnet34(pretrained=True), \n",
    "                       dwpath_chs = [3,    64,  64, 128, 256, 512],\n",
    "                       uppath_chs = [128, 128, 128, 128, 256, 512],\n",
    "                       bridge_shortcut = bridge_shortcut,\n",
    "                       side_connect = side_connect,\n",
    "                       upsample_method = \"conv_transpose\",\n",
    "                       n_classes=n_class)\n",
    "    return res"
   ]
  },
  {
   "cell_type": "markdown",
   "metadata": {
    "heading_collapsed": true
   },
   "source": [
    "## unet_res50"
   ]
  },
  {
   "cell_type": "code",
   "execution_count": 13,
   "metadata": {
    "hidden": true
   },
   "outputs": [],
   "source": [
    "# export\n",
    "def get_unet_res50(n_class, allres=True):\n",
    "    \"\"\"\n",
    "    allres: all residual connect\n",
    "    allres=True: 在侧向连接中都使用如 resnet 的方式，包括在bridge中加入shortcut，各层shortcut的融合中使用add而非concatenate\n",
    "    allres=False: 所有侧向连接中都是原unet的方式\n",
    "    \n",
    "    \"\"\"\n",
    "    if allres:\n",
    "        side_connect = 'add'\n",
    "        bridge_shortcut = True\n",
    "    else:\n",
    "        side_connect = 'cat'\n",
    "        bridge_shortcut = False\n",
    "        \n",
    "    res = Resnet_UNet( resnet=torchvision.models.resnet.resnet50(pretrained=True), \n",
    "                       dwpath_chs = [3,   64,  256, 512, 1024, 2048],\n",
    "                       uppath_chs = [128, 128, 256, 512, 1024, 2048],\n",
    "                       bridge_shortcut = bridge_shortcut,\n",
    "                       side_connect = side_connect,\n",
    "                       upsample_method = \"conv_transpose\",\n",
    "                       n_classes=n_class)\n",
    "    return res"
   ]
  },
  {
   "cell_type": "markdown",
   "metadata": {
    "heading_collapsed": true
   },
   "source": [
    "# test"
   ]
  },
  {
   "cell_type": "markdown",
   "metadata": {
    "heading_collapsed": true,
    "hidden": true
   },
   "source": [
    "## unet_res18"
   ]
  },
  {
   "cell_type": "markdown",
   "metadata": {
    "hidden": true
   },
   "source": [
    "all resish"
   ]
  },
  {
   "cell_type": "code",
   "execution_count": 14,
   "metadata": {
    "hidden": true
   },
   "outputs": [
    {
     "data": {
      "text/plain": [
       "torch.Size([4, 2, 512, 512])"
      ]
     },
     "execution_count": 14,
     "metadata": {},
     "output_type": "execute_result"
    }
   ],
   "source": [
    "model = get_unet_res18(2)\n",
    "x = torch.rand((4,3,512,512))\n",
    "output = model(x)\n",
    "output.shape"
   ]
  },
  {
   "cell_type": "markdown",
   "metadata": {
    "hidden": true
   },
   "source": [
    "vanila unet"
   ]
  },
  {
   "cell_type": "code",
   "execution_count": 15,
   "metadata": {
    "hidden": true
   },
   "outputs": [
    {
     "data": {
      "text/plain": [
       "torch.Size([4, 2, 512, 512])"
      ]
     },
     "execution_count": 15,
     "metadata": {},
     "output_type": "execute_result"
    }
   ],
   "source": [
    "model = get_unet_res18(2, allres=False)\n",
    "x = torch.rand((4,3,512,512))\n",
    "output = model(x)\n",
    "output.shape"
   ]
  },
  {
   "cell_type": "markdown",
   "metadata": {
    "hidden": true
   },
   "source": [
    "## unet_res34"
   ]
  },
  {
   "cell_type": "code",
   "execution_count": 16,
   "metadata": {
    "hidden": true
   },
   "outputs": [
    {
     "data": {
      "text/plain": [
       "torch.Size([4, 2, 512, 512])"
      ]
     },
     "execution_count": 16,
     "metadata": {},
     "output_type": "execute_result"
    }
   ],
   "source": [
    "model = get_unet_res34(2)\n",
    "x = torch.rand((4,3,512,512))\n",
    "output = model(x)\n",
    "output.shape"
   ]
  },
  {
   "cell_type": "code",
   "execution_count": 17,
   "metadata": {
    "hidden": true
   },
   "outputs": [
    {
     "data": {
      "text/plain": [
       "torch.Size([4, 2, 512, 512])"
      ]
     },
     "execution_count": 17,
     "metadata": {},
     "output_type": "execute_result"
    }
   ],
   "source": [
    "model = get_unet_res34(2, allres=False)\n",
    "x = torch.rand((4,3,512,512))\n",
    "output = model(x)\n",
    "output.shape"
   ]
  },
  {
   "cell_type": "markdown",
   "metadata": {
    "hidden": true
   },
   "source": [
    "## unet_res50"
   ]
  },
  {
   "cell_type": "code",
   "execution_count": 18,
   "metadata": {
    "hidden": true
   },
   "outputs": [
    {
     "data": {
      "text/plain": [
       "torch.Size([4, 2, 512, 512])"
      ]
     },
     "execution_count": 18,
     "metadata": {},
     "output_type": "execute_result"
    }
   ],
   "source": [
    "model = get_unet_res50(2)\n",
    "x = torch.rand((4,3,512,512))\n",
    "output = model(x)\n",
    "output.shape"
   ]
  },
  {
   "cell_type": "code",
   "execution_count": 19,
   "metadata": {
    "hidden": true
   },
   "outputs": [
    {
     "data": {
      "text/plain": [
       "torch.Size([4, 2, 512, 512])"
      ]
     },
     "execution_count": 19,
     "metadata": {},
     "output_type": "execute_result"
    }
   ],
   "source": [
    "model = get_unet_res50(2, allres=False)\n",
    "x = torch.rand((4,3,512,512))\n",
    "output = model(x)\n",
    "output.shape"
   ]
  },
  {
   "cell_type": "markdown",
   "metadata": {},
   "source": [
    "# export"
   ]
  },
  {
   "cell_type": "code",
   "execution_count": 1,
   "metadata": {
    "scrolled": true
   },
   "outputs": [
    {
     "name": "stdout",
     "output_type": "stream",
     "text": [
      "Converted resnet_unet.ipynb to exp/nb_resnet_unet.py\r\n"
     ]
    }
   ],
   "source": [
    "!python notebook2script.py --fname 'resnet_unet.ipynb' --outputDir './exp/'"
   ]
  }
 ],
 "metadata": {
  "kernelspec": {
   "display_name": "fastai",
   "language": "python",
   "name": "fastai"
  },
  "language_info": {
   "codemirror_mode": {
    "name": "ipython",
    "version": 3
   },
   "file_extension": ".py",
   "mimetype": "text/x-python",
   "name": "python",
   "nbconvert_exporter": "python",
   "pygments_lexer": "ipython3",
   "version": "3.7.4"
  },
  "toc": {
   "base_numbering": 1,
   "nav_menu": {},
   "number_sections": true,
   "sideBar": true,
   "skip_h1_title": false,
   "title_cell": "Table of Contents",
   "title_sidebar": "Contents",
   "toc_cell": false,
   "toc_position": {},
   "toc_section_display": true,
   "toc_window_display": false
  }
 },
 "nbformat": 4,
 "nbformat_minor": 2
}
