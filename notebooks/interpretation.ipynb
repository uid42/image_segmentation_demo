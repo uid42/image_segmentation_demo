{
 "cells": [
  {
   "cell_type": "code",
   "execution_count": null,
   "metadata": {},
   "outputs": [],
   "source": [
    "%load_ext autoreload\n",
    "%autoreload 2\n",
    "\n",
    "%matplotlib inline"
   ]
  },
  {
   "cell_type": "markdown",
   "metadata": {},
   "source": [
    "# import"
   ]
  },
  {
   "cell_type": "code",
   "execution_count": null,
   "metadata": {},
   "outputs": [],
   "source": [
    "# export\n",
    "import os"
   ]
  },
  {
   "cell_type": "code",
   "execution_count": null,
   "metadata": {},
   "outputs": [],
   "source": [
    "# export\n",
    "import random"
   ]
  },
  {
   "cell_type": "code",
   "execution_count": null,
   "metadata": {},
   "outputs": [],
   "source": [
    "import pandas as pd"
   ]
  },
  {
   "cell_type": "code",
   "execution_count": null,
   "metadata": {},
   "outputs": [],
   "source": [
    "from torch.utils.tensorboard import SummaryWriter"
   ]
  },
  {
   "cell_type": "code",
   "execution_count": null,
   "metadata": {},
   "outputs": [],
   "source": [
    "import sys\n",
    "if '..' not in sys.path:\n",
    "    sys.path.append('..')\n",
    "from exp import loss_metrics\n",
    "from exp import databunch\n",
    "from exp import resnet_unet\n",
    "from exp import train_eval"
   ]
  },
  {
   "cell_type": "code",
   "execution_count": null,
   "metadata": {},
   "outputs": [],
   "source": [
    "import numpy as np"
   ]
  },
  {
   "cell_type": "code",
   "execution_count": null,
   "metadata": {},
   "outputs": [],
   "source": [
    "# export\n",
    "import torch"
   ]
  },
  {
   "cell_type": "code",
   "execution_count": null,
   "metadata": {},
   "outputs": [],
   "source": [
    "# export\n",
    "from torch import tensor"
   ]
  },
  {
   "cell_type": "code",
   "execution_count": null,
   "metadata": {},
   "outputs": [],
   "source": [
    "from fastai.basic_train import Learner"
   ]
  },
  {
   "cell_type": "code",
   "execution_count": null,
   "metadata": {},
   "outputs": [],
   "source": [
    "# export\n",
    "from matplotlib import pyplot as plt"
   ]
  },
  {
   "cell_type": "code",
   "execution_count": null,
   "metadata": {},
   "outputs": [],
   "source": [
    "# export\n",
    "from matplotlib import patches,patheffects"
   ]
  },
  {
   "cell_type": "code",
   "execution_count": null,
   "metadata": {},
   "outputs": [],
   "source": [
    "# export\n",
    "from IPython.core import debugger as idb"
   ]
  },
  {
   "cell_type": "code",
   "execution_count": null,
   "metadata": {},
   "outputs": [],
   "source": [
    "from fastai.vision.image import Image"
   ]
  },
  {
   "cell_type": "code",
   "execution_count": null,
   "metadata": {},
   "outputs": [],
   "source": [
    "from fastai.vision import *"
   ]
  },
  {
   "cell_type": "code",
   "execution_count": null,
   "metadata": {},
   "outputs": [],
   "source": [
    "from functools import partial"
   ]
  },
  {
   "cell_type": "code",
   "execution_count": null,
   "metadata": {},
   "outputs": [],
   "source": [
    "# export\n",
    "from math import ceil"
   ]
  },
  {
   "cell_type": "code",
   "execution_count": null,
   "metadata": {},
   "outputs": [],
   "source": [
    "# export\n",
    "from torch.nn import Sequential, ModuleList"
   ]
  },
  {
   "cell_type": "code",
   "execution_count": null,
   "metadata": {},
   "outputs": [],
   "source": [
    "import cv2"
   ]
  },
  {
   "cell_type": "code",
   "execution_count": null,
   "metadata": {},
   "outputs": [],
   "source": [
    "import PIL"
   ]
  },
  {
   "cell_type": "markdown",
   "metadata": {},
   "source": [
    "# functions"
   ]
  },
  {
   "cell_type": "code",
   "execution_count": null,
   "metadata": {},
   "outputs": [],
   "source": [
    "class Normalizer():\n",
    "    def __init__(self,mean,std,device):\n",
    "        self.mean = mean.to(device)\n",
    "        self.std = std.to(device)\n",
    "        \n",
    "    def __call__(self,x):\n",
    "        res = x/255\n",
    "        res = (res-self.mean)/self.std\n",
    "        return res"
   ]
  },
  {
   "cell_type": "code",
   "execution_count": null,
   "metadata": {},
   "outputs": [],
   "source": [
    "imagenet_stats"
   ]
  },
  {
   "cell_type": "code",
   "execution_count": null,
   "metadata": {},
   "outputs": [],
   "source": [
    "device = torch.device('cuda', 0)"
   ]
  },
  {
   "cell_type": "code",
   "execution_count": null,
   "metadata": {},
   "outputs": [],
   "source": [
    "device_ids = [0]"
   ]
  },
  {
   "cell_type": "code",
   "execution_count": null,
   "metadata": {},
   "outputs": [],
   "source": [
    "# 提取与输入输出处理有关的参数\n",
    "#normMean = state['data']['normalize']['mean']\n",
    "#normStd = state['data']['normalize']['std']\n",
    "normMean = Tensor(imagenet_stats[0])\n",
    "normStd = Tensor(imagenet_stats[1])"
   ]
  },
  {
   "cell_type": "code",
   "execution_count": null,
   "metadata": {},
   "outputs": [],
   "source": [
    "# 输入图片需要经normalize才能给到模型输入，这是做normalize的函数\n",
    "normalize = Normalizer(mean=normMean[None,:,None,None],\n",
    "                       std=normStd[None,:,None,None],\n",
    "                       device=device)"
   ]
  },
  {
   "cell_type": "code",
   "execution_count": null,
   "metadata": {},
   "outputs": [],
   "source": [
    "def pred(model, rimgs):\n",
    "    #把图片放到网络里面去\n",
    "    timgs = []\n",
    "    for simg in rimgs:\n",
    "        timgs += [tensor(simg.transpose(2,0,1)).unsqueeze(0)]\n",
    "    timgs = torch.cat(timgs,0)\n",
    "    print(timgs.shape)\n",
    "    netin = normalize(timgs.float().to(device))\n",
    "    #data_200.normalize\n",
    "    with torch.no_grad():\n",
    "        netouts = model(netin)\n",
    "    out = netouts.sigmoid()\n",
    "    return out"
   ]
  },
  {
   "cell_type": "code",
   "execution_count": null,
   "metadata": {},
   "outputs": [],
   "source": [
    "def show_preds(out, rimgs):\n",
    "    assert len(out) == len(rimgs)\n",
    "    fig, axs = plt.subplots(len(rimgs), 2, figsize=(8 * 2, 8 * len(rimgs)))\n",
    "    for i in range(len(rimgs)):\n",
    "        axs[i, 0].imshow(np.squeeze(out[i].cpu().numpy()))\n",
    "    for i in range(len(rimgs)):\n",
    "        axs[i, 1].imshow(rimgs[i]) "
   ]
  },
  {
   "cell_type": "markdown",
   "metadata": {},
   "source": [
    "# test"
   ]
  },
  {
   "cell_type": "markdown",
   "metadata": {},
   "source": [
    "## 准备好learner"
   ]
  },
  {
   "cell_type": "code",
   "execution_count": null,
   "metadata": {},
   "outputs": [],
   "source": [
    "device = torch.device('cuda', 0)"
   ]
  },
  {
   "cell_type": "code",
   "execution_count": null,
   "metadata": {},
   "outputs": [],
   "source": [
    "#用200数据集的训练结果进行测试。但是用的测试的数据集是200的\n",
    "data_200 = databunch.get_databunch('./data/dataset_20200715',bs=4,device=device, transforms = None) "
   ]
  },
  {
   "cell_type": "code",
   "execution_count": null,
   "metadata": {},
   "outputs": [],
   "source": [
    "data_200"
   ]
  },
  {
   "cell_type": "code",
   "execution_count": null,
   "metadata": {},
   "outputs": [],
   "source": [
    "tag = '__'.join(['resnet18', 'allres', 'dice_loss', 'dataset2000','adam'])\n",
    "getlearn = partial(train_eval.get_learn, data = data_200, model_name = 'resnet18'\n",
    "                   , loss_func_name = 'dice_loss', allres = True, tag = tag)"
   ]
  },
  {
   "cell_type": "code",
   "execution_count": null,
   "metadata": {},
   "outputs": [],
   "source": [
    "learn = getlearn()"
   ]
  },
  {
   "cell_type": "code",
   "execution_count": null,
   "metadata": {},
   "outputs": [],
   "source": [
    "pthfn = os.path.join('train_logs/', tag, 'run_0.pth')"
   ]
  },
  {
   "cell_type": "code",
   "execution_count": null,
   "metadata": {},
   "outputs": [],
   "source": [
    "pthfn"
   ]
  },
  {
   "cell_type": "code",
   "execution_count": null,
   "metadata": {},
   "outputs": [],
   "source": [
    "with open(pthfn,'rb') as f:\n",
    "    learn.load(f)"
   ]
  },
  {
   "cell_type": "code",
   "execution_count": null,
   "metadata": {},
   "outputs": [],
   "source": [
    "tmp = torch.load(pthfn)"
   ]
  },
  {
   "cell_type": "code",
   "execution_count": null,
   "metadata": {},
   "outputs": [],
   "source": [
    "# 把模型放到device上，如果使用GPU，则设置使用哪几个GPU\n",
    "if hasattr(learn.model, \"module\"): \n",
    "    learn.model = learn.model.module\n",
    "\n",
    "learn.model.to(device);\n",
    "\n",
    "if device.type=='cuda':\n",
    "    learn.model = torch.nn.DataParallel(learn.model,device_ids=[0])"
   ]
  },
  {
   "cell_type": "code",
   "execution_count": null,
   "metadata": {},
   "outputs": [],
   "source": [
    "learn.model.eval();"
   ]
  },
  {
   "cell_type": "markdown",
   "metadata": {},
   "source": [
    "## 观察"
   ]
  },
  {
   "cell_type": "code",
   "execution_count": null,
   "metadata": {},
   "outputs": [],
   "source": [
    "x, y = next(iter(data_200.valid_dl))"
   ]
  },
  {
   "cell_type": "code",
   "execution_count": null,
   "metadata": {},
   "outputs": [],
   "source": [
    "with torch.no_grad():\n",
    "    out = learn.model(x)"
   ]
  },
  {
   "cell_type": "code",
   "execution_count": null,
   "metadata": {},
   "outputs": [],
   "source": [
    "out = out.sigmoid()"
   ]
  },
  {
   "cell_type": "code",
   "execution_count": null,
   "metadata": {},
   "outputs": [],
   "source": [
    "#看看结果和验证集差异。第一行是输出记过，第二行是验证集\n",
    "fig, axs = plt.subplots(3, 4, figsize=(16, 12))\n",
    "for i in range(4):\n",
    "    axs[0, i].imshow(np.squeeze(out[i].cpu().numpy()))\n",
    "for i in range(4):    \n",
    "    axs[1, i].imshow(np.squeeze(y[i].cpu().numpy()))\n",
    "dx = data_200.denorm(x)\n",
    "for i in range(4):\n",
    "    axs[2, i].imshow(dx[i].permute(1,2,0))    "
   ]
  },
  {
   "cell_type": "markdown",
   "metadata": {},
   "source": [
    "## 看看在数据集外的图像上的表现"
   ]
  },
  {
   "cell_type": "code",
   "execution_count": null,
   "metadata": {},
   "outputs": [],
   "source": [
    "SZ = 512"
   ]
  },
  {
   "cell_type": "code",
   "execution_count": null,
   "metadata": {},
   "outputs": [],
   "source": [
    "mask = cv2.imread('data/label/4masks.png')\n",
    "mask = cv2.cvtColor(mask, cv2.COLOR_BGR2RGB)\n",
    "#mask = PIL.Image.open('data/label/4masks.png')"
   ]
  },
  {
   "cell_type": "code",
   "execution_count": null,
   "metadata": {},
   "outputs": [],
   "source": [
    "#红色是水体。绿色的是操场。简单标出大概的位置\n",
    "mark = np.array([255], dtype=np.uint8)\n",
    "plt.imshow((mask == mark).astype(np.uint8) * 255)"
   ]
  },
  {
   "cell_type": "code",
   "execution_count": null,
   "metadata": {
    "scrolled": true
   },
   "outputs": [],
   "source": [
    "t = (mask == mark[0]).astype(np.uint8) * 255\n",
    "print(t[:,:,0].shape)\n",
    "plt.imshow(t[:,:,0])"
   ]
  },
  {
   "cell_type": "code",
   "execution_count": null,
   "metadata": {},
   "outputs": [],
   "source": [
    "img = cv2.imread('data/src/image/4.png')\n",
    "img = cv2.cvtColor(img, cv2.COLOR_BGR2RGB)"
   ]
  },
  {
   "cell_type": "code",
   "execution_count": null,
   "metadata": {
    "scrolled": true
   },
   "outputs": [],
   "source": [
    "plt.imshow(img)"
   ]
  },
  {
   "cell_type": "code",
   "execution_count": null,
   "metadata": {},
   "outputs": [],
   "source": [
    "cnt = 0"
   ]
  },
  {
   "cell_type": "code",
   "execution_count": null,
   "metadata": {},
   "outputs": [],
   "source": [
    "#提取四个图片出来。要求必须包含水体。\n",
    "rimgs = []\n",
    "h, w, _ = img.shape\n",
    "watermask = ((mask == mark[0]).astype(np.uint8) * 255)[:,:,0]\n",
    "while True:\n",
    "    x = random.randint(0, w - SZ - 1)\n",
    "    y = random.randint(0, h - SZ - 1)\n",
    "    simg = img[y : y + SZ, x : x + SZ]\n",
    "    smask = watermask[y : y + SZ, x : x + SZ]\n",
    "    #print(smask.sum() // 255, smask.shape)\n",
    "    #print(smask.data)\n",
    "    \n",
    "    \n",
    "    #print(simg.shape)\n",
    "    if smask.sum() // 255 > 1500:#不区分是水还是操场\n",
    "        #plt.imshow(simg)\n",
    "        rimgs += [simg]\n",
    "    \n",
    "        cv2.imwrite('%03d.png' % cnt, simg)\n",
    "        #cv2.imwrite('%02d_mask.png' % cnt, smask)    \n",
    "        cnt += 1\n",
    "        \n",
    "    if len(rimgs) == 4:\n",
    "        break\n",
    "\n",
    "fig, axs = plt.subplots(1, 4, figsize=(16, 4))\n",
    "for i in range(4):\n",
    "    axs[i].imshow(rimgs[i])\n",
    "    "
   ]
  },
  {
   "cell_type": "code",
   "execution_count": null,
   "metadata": {},
   "outputs": [],
   "source": [
    "out = pred(learn.model, rimgs)"
   ]
  },
  {
   "cell_type": "code",
   "execution_count": null,
   "metadata": {
    "scrolled": false
   },
   "outputs": [],
   "source": [
    "show_preds(out, rimgs)"
   ]
  },
  {
   "cell_type": "markdown",
   "metadata": {},
   "source": [
    "### 统计0、1以为值的比例"
   ]
  },
  {
   "cell_type": "code",
   "execution_count": null,
   "metadata": {},
   "outputs": [],
   "source": [
    "npout = out.cpu().numpy()"
   ]
  },
  {
   "cell_type": "code",
   "execution_count": null,
   "metadata": {},
   "outputs": [],
   "source": [
    "npout.flatten().shape"
   ]
  },
  {
   "cell_type": "code",
   "execution_count": null,
   "metadata": {},
   "outputs": [],
   "source": [
    "npout = (npout * 100).astype(int)"
   ]
  },
  {
   "cell_type": "code",
   "execution_count": null,
   "metadata": {},
   "outputs": [],
   "source": [
    "npout = npout.flatten()"
   ]
  },
  {
   "cell_type": "code",
   "execution_count": null,
   "metadata": {},
   "outputs": [],
   "source": [
    "np.unique(npout)"
   ]
  },
  {
   "cell_type": "code",
   "execution_count": null,
   "metadata": {},
   "outputs": [],
   "source": [
    "np.unique(npout).shape"
   ]
  },
  {
   "cell_type": "code",
   "execution_count": null,
   "metadata": {},
   "outputs": [],
   "source": [
    "cnt = [np.sum(npout == i) for i in range(101)]"
   ]
  },
  {
   "cell_type": "code",
   "execution_count": null,
   "metadata": {},
   "outputs": [],
   "source": [
    "plt.bar(range(101), cnt)"
   ]
  },
  {
   "cell_type": "markdown",
   "metadata": {},
   "source": [
    "## 再看看另一个训练结果"
   ]
  },
  {
   "cell_type": "code",
   "execution_count": null,
   "metadata": {},
   "outputs": [],
   "source": [
    "tag2 = '__'.join(['resnet18', 'vanila', 'dice_loss', 'dataset200','adam'])\n",
    "getlearn2 = partial(train_eval.get_learn, data = data_200, model_name = 'resnet18'\n",
    "                   , loss_func_name = 'dice_loss', allres = False, tag = tag2)"
   ]
  },
  {
   "cell_type": "code",
   "execution_count": null,
   "metadata": {},
   "outputs": [],
   "source": [
    "pthfn2 = os.path.join('train_logs/', tag2, 'run_0.pth')"
   ]
  },
  {
   "cell_type": "code",
   "execution_count": null,
   "metadata": {},
   "outputs": [],
   "source": [
    "pathfn2 = 'data/dataset_20200715_200_et/image/models/run_0.pth'"
   ]
  },
  {
   "cell_type": "code",
   "execution_count": null,
   "metadata": {},
   "outputs": [],
   "source": [
    "learn2 = getlearn2(tag = tag2)"
   ]
  },
  {
   "cell_type": "code",
   "execution_count": null,
   "metadata": {},
   "outputs": [],
   "source": [
    "with open(pthfn2,'rb') as f:\n",
    "    learn2.load(f)\n",
    "# 把模型放到device上，如果使用GPU，则设置使用哪几个GPU\n",
    "if hasattr(learn2.model, \"module\"): \n",
    "    learn2.model = learn2.model.module\n",
    "\n",
    "learn2.model.to(device);\n",
    "\n",
    "if device.type=='cuda':\n",
    "    learn2.model = torch.nn.DataParallel(learn2.model,device_ids=device_ids)    \n",
    "learn2.model.eval();    "
   ]
  },
  {
   "cell_type": "code",
   "execution_count": null,
   "metadata": {
    "scrolled": false
   },
   "outputs": [],
   "source": [
    "out2 = pred(learn2.model, rimgs)\n",
    "show_preds(out2, rimgs)"
   ]
  },
  {
   "cell_type": "markdown",
   "metadata": {
    "heading_collapsed": true
   },
   "source": [
    "## 训练曲线"
   ]
  },
  {
   "cell_type": "code",
   "execution_count": null,
   "metadata": {
    "hidden": true
   },
   "outputs": [],
   "source": [
    "#for i in os.scandir('train_logs'):\n",
    "dfs = []\n",
    "for i in os.walk('train_logs'):\n",
    "    #print(i)\n",
    "    if i[0].find('test') < 0:#跳过\n",
    "        continue\n",
    "    for f in i[2]:\n",
    "        if f == 'run_0.csv':\n",
    "            print(i[0], f)\n",
    "            df = pd.read_csv(os.path.join(i[0], f))\n",
    "            dfs += [(df, i[0].split('/')[-2].split('__')[-1])]\n",
    "for df, lbl in dfs:    \n",
    "    print(lbl)\n",
    "    #plt.plot(df.mask_iou, label = lbl)\n",
    "    if lbl in ['test_1', 'test_3']:\n",
    "        plt.plot(df.train_loss, label = lbl)\n",
    "\n",
    "plt.ylim((0.,0.1))    \n",
    "plt.xlabel('iteration')    \n",
    "plt.ylabel('mask_iou')\n",
    "\n",
    "plt.legend()\n",
    "plt.show()            \n",
    "#df            \n",
    "    "
   ]
  },
  {
   "cell_type": "markdown",
   "metadata": {},
   "source": [
    "# export"
   ]
  },
  {
   "cell_type": "code",
   "execution_count": null,
   "metadata": {
    "scrolled": true
   },
   "outputs": [],
   "source": [
    "!python ../notebook2script.py --fname 'interpretation.ipynb' --outputDir '../exp/'"
   ]
  },
  {
   "cell_type": "code",
   "execution_count": null,
   "metadata": {},
   "outputs": [],
   "source": []
  }
 ],
 "metadata": {
  "kernelspec": {
   "display_name": "Python 3",
   "language": "python",
   "name": "python3"
  },
  "language_info": {
   "codemirror_mode": {
    "name": "ipython",
    "version": 3
   },
   "file_extension": ".py",
   "mimetype": "text/x-python",
   "name": "python",
   "nbconvert_exporter": "python",
   "pygments_lexer": "ipython3",
   "version": "3.7.2"
  }
 },
 "nbformat": 4,
 "nbformat_minor": 2
}
