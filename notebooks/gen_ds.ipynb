{
 "cells": [
  {
   "cell_type": "markdown",
   "metadata": {},
   "source": [
    "# import "
   ]
  },
  {
   "cell_type": "code",
   "execution_count": 4,
   "metadata": {},
   "outputs": [],
   "source": [
    "import cv2"
   ]
  },
  {
   "cell_type": "code",
   "execution_count": 5,
   "metadata": {},
   "outputs": [],
   "source": [
    "import random"
   ]
  },
  {
   "cell_type": "code",
   "execution_count": 6,
   "metadata": {},
   "outputs": [],
   "source": [
    "import os"
   ]
  },
  {
   "cell_type": "code",
   "execution_count": 7,
   "metadata": {},
   "outputs": [],
   "source": [
    "from fastprogress.fastprogress import progress_bar"
   ]
  },
  {
   "cell_type": "code",
   "execution_count": 8,
   "metadata": {},
   "outputs": [],
   "source": [
    "import numpy as np"
   ]
  },
  {
   "cell_type": "code",
   "execution_count": 9,
   "metadata": {},
   "outputs": [],
   "source": [
    "from scipy.ndimage.interpolation import map_coordinates"
   ]
  },
  {
   "cell_type": "code",
   "execution_count": 10,
   "metadata": {},
   "outputs": [],
   "source": [
    "from scipy.ndimage.filters import gaussian_filter"
   ]
  },
  {
   "cell_type": "markdown",
   "metadata": {},
   "source": [
    "# functions"
   ]
  },
  {
   "cell_type": "code",
   "execution_count": 11,
   "metadata": {},
   "outputs": [],
   "source": [
    "# 关注的水体的灰度值。\n",
    "#0 未标注。 1 空地。 2 建筑 。3 水体。4 道路\n",
    "TYP_WATER = 3"
   ]
  },
  {
   "cell_type": "code",
   "execution_count": 12,
   "metadata": {},
   "outputs": [],
   "source": [
    "#水体占比在这个值一下的认为是空的\n",
    "BLANK_TH = 0.04"
   ]
  },
  {
   "cell_type": "code",
   "execution_count": 13,
   "metadata": {},
   "outputs": [],
   "source": [
    "#https://www.kaggle.com/bguberfain/elastic-transform-for-data-augmentation\n",
    "# Function to distort image\n",
    "def elastic_transform(image, image_mask, alpha, sigma, alpha_affine, random_state=None):\n",
    "    \"\"\"Elastic deformation of images as described in [Simard2003]_ (with modifications).\n",
    "    .. [Simard2003] Simard, Steinkraus and Platt, \"Best Practices for\n",
    "         Convolutional Neural Networks applied to Visual Document Analysis\", in\n",
    "         Proc. of the International Conference on Document Analysis and\n",
    "         Recognition, 2003.\n",
    "\n",
    "     Based on https://gist.github.com/erniejunior/601cdf56d2b424757de5\n",
    "    \"\"\"\n",
    "    #import pdb; pdb.set_trace()\n",
    "    if random_state is None:\n",
    "        random_state = np.random.RandomState(None)\n",
    "\n",
    "    shape = image.shape\n",
    "    shape_size = shape[:2]\n",
    "    #print('dbg0', image.shape, random_state)\n",
    "    # Random affine\n",
    "    center_square = np.float32(shape_size) // 2\n",
    "    square_size = min(shape_size) // 3\n",
    "    pts1 = np.float32([center_square + square_size, [center_square[0]+square_size, center_square[1]-square_size], center_square - square_size])\n",
    "    pts2 = pts1 + random_state.uniform(-alpha_affine, alpha_affine, size=pts1.shape).astype(np.float32)\n",
    "    M = cv2.getAffineTransform(pts1, pts2)\n",
    "    image = cv2.warpAffine(image, M, shape_size[::-1], borderMode=cv2.BORDER_REFLECT_101)\n",
    "    #print('dbg3', image_mask.shape, (image_mask[None]).shape)\n",
    "    if image_mask is not None:\n",
    "        #print('dbg5', image_mask.shape)\n",
    "        #image_mask = cv2.cvtColor(image_mask, cv2.COLOR_GRAY2RGB)\n",
    "        image_mask = cv2.warpAffine(image_mask, M, shape_size[::-1], borderMode=cv2.BORDER_REFLECT_101)\n",
    "        \n",
    "    #print('dbg1', random_state.rand(*shape) * 2 - 1, sigma, alpha)\n",
    "    dx = gaussian_filter((random_state.rand(*shape) * 2 - 1), sigma) * alpha\n",
    "    dy = gaussian_filter((random_state.rand(*shape) * 2 - 1), sigma) * alpha\n",
    "    dz = np.zeros_like(dx)\n",
    "    #print('dbg7')\n",
    "    x, y, z = np.meshgrid(np.arange(shape[1]), np.arange(shape[0]), np.arange(shape[2]))\n",
    "    indices = np.reshape(y+dy, (-1, 1)), np.reshape(x+dx, (-1, 1)), np.reshape(z, (-1, 1))\n",
    "\n",
    "    return map_coordinates(image, indices, order=1, mode='reflect').reshape(shape) \\\n",
    "            , map_coordinates(image_mask, indices, order=1, mode='reflect').reshape(shape) if image_mask is not None else None\n",
    "            "
   ]
  },
  {
   "cell_type": "code",
   "execution_count": 14,
   "metadata": {},
   "outputs": [],
   "source": [
    "def gen_dataset(imgfns, maskfns, output_dir = 'label/dataset_20200708', imgdir = 'image'\n",
    "                , maskdir = 'mask', img_sz = (512, 512), ds_sz = 1000, blank_pct = 0.2\n",
    "                , suffix = '.png', data_aug = [], dbg = []):\n",
    "    '''\n",
    "    生成数据集\n",
    "    参数：\n",
    "        imgfns：大图片文件名列表\n",
    "        maskfns：对应的mask文件名列表。与上一个参数里面的文件一一对应\n",
    "        output_dir：输出数据集目录\n",
    "        imgdir：输出数据集中存放图片的子目录。\n",
    "        maskdir：输出数据集中存放mask图片的子目录\n",
    "        img_sz：提取的小图的大小,内容为(width, height)\n",
    "        ds_sz：生成图片数量\n",
    "        blank_pct：无水体图片数量比例\n",
    "        suffix：生成图片文件扩展名\n",
    "        data_aug:数据增强\n",
    "            参数：\n",
    "                'elastic_tfm':elastic transfrom。在截取到一个图像后应用到图像和mask上，生成新的图像保存。\n",
    "                                                 也就是会多生成额外的一份数据，会造成数据集增大一倍。\n",
    "                                                 运行缓慢，生成200张图片加上变换需要4分8秒，不叫只需要2秒。\n",
    "        dbg：调试用\n",
    "    '''\n",
    "    assert len(imgfns) == len(maskfns)\n",
    "    #检查创建目录\n",
    "    for sdir in ['', imgdir, maskdir]:\n",
    "        if not os.path.exists(os.path.join(output_dir, sdir)):\n",
    "            os.makedirs(os.path.join(output_dir, sdir))\n",
    "    total_cnt = 0#产出计数\n",
    "    imgs = []\n",
    "    for imgfn, maskfn in zip(imgfns, maskfns):\n",
    "        img = cv2.imread(imgfn)\n",
    "        #mask = (cv2.imread(maskfn, cv2.IMREAD_GRAYSCALE) == TYP_WATER).astype(int) * 1        \n",
    "        water_color = np.array([TYP_WATER, TYP_WATER, TYP_WATER], dtype=np.uint8)\n",
    "        maskr = cv2.imread(maskfn)        \n",
    "        mask = (cv2.cvtColor(maskr, cv2.COLOR_RGB2GRAY) == TYP_WATER).astype(int) * 1\n",
    "        maskr = (maskr == water_color).astype(np.uint8) * 1\n",
    "        #print(imgfn, maskfn, img.shape, mask.shape)\n",
    "        assert img.shape[ : 2] == mask.shape[ : 2]\n",
    "        imgs += [(img, mask, maskr)]\n",
    "    \n",
    "    #当前大图需要产生的空白数据图片的数量\n",
    "    DS_SZ_BLANK = int(ds_sz * blank_pct)        \n",
    "    #需要产生的有效图片的数量\n",
    "    DS_SZ_VALID = ds_sz - DS_SZ_BLANK\n",
    "\n",
    "    validcnt = 0 #当前图片产生的数量\n",
    "    blankcnt = 0#当前产出的空白数据集的数量\n",
    "    #print('dbg1', DS_SZ_1IMG, DS_SZ_1IMG_BLANK, DS_SZ_1IMG_VALID)\n",
    "    \n",
    "    #随机生成一个问题是分类区域占比太少的情况下会导致前期生成的大部分都是空白图片。    #    \n",
    "    #RNDIDX=True，每次生成的图片名序号是随机数。分布在0-ds_sz之间。\n",
    "    #RNDIDX=False，每次生成的是不是空白是实现确定的，如果对不上就重新分割。\n",
    "    #会略微慢一些，可忽略，10000张耗时130s:134s。\n",
    "    RNDIDX = False    \n",
    "    gen_cats = [i for i in range(ds_sz)]    \n",
    "    random.shuffle(gen_cats)\n",
    "    #print('gen_idxs', gen_cats)\n",
    "    if RNDIDX:\n",
    "        gen_idxs = gen_cats#仅仅是名字看起来更合适\n",
    "    \n",
    "    pbar = progress_bar(range(ds_sz))\n",
    "    pbar.comment = '生成中'\n",
    "    for p in pbar:\n",
    "        #print('dbg0==')\n",
    "        while validcnt < DS_SZ_VALID or blankcnt < DS_SZ_BLANK:\n",
    "            idx = random.randint(0, 2)\n",
    "            #print(idx, imgfns[idx])\n",
    "            img, mask, maskr = imgs[idx]\n",
    "            dsx = random.randint(0, img.shape[0] - img_sz[1])\n",
    "            dsy = random.randint(0, img.shape[1] - img_sz[0])\n",
    "            dsimg = img[dsx : dsx + img_sz[1], dsy : dsy + img_sz[0]]            \n",
    "            dsmask = mask[dsx : dsx + img_sz[1], dsy : dsy + img_sz[0]]        \n",
    "            area = cv2.countNonZero(dsmask)\n",
    "            \n",
    "            if not RNDIDX and RNDIDX is not None:\n",
    "                #本次想要生产的类别.用数值来确定。\n",
    "                cat = gen_cats[total_cnt]\n",
    "                #cat = np.random.randint(0, ds_sz)\n",
    "            #print('dbg1==', area, area / (img_sz[0] * img_sz[1]), cat, idx)\n",
    "            #根据比例判断一下是否有效的\n",
    "            if area / (img_sz[0] * img_sz[1]) > BLANK_TH:\n",
    "                #print(validcnt, total_cnt, ds_sz % len(imgfns))\n",
    "                #这次准备生成的是空白的，得到的是有内容的\n",
    "                if not RNDIDX and RNDIDX is not None:\n",
    "                    if cat < DS_SZ_BLANK:\n",
    "                        continue\n",
    "                #超过了数量的放弃.并且保证到达整数\n",
    "                if validcnt >= DS_SZ_VALID:\n",
    "                    continue\n",
    "                validcnt += 1\n",
    "            else:\n",
    "                #这次应该是有效内容，但是得到的是空白的\n",
    "                if not RNDIDX and RNDIDX is not None:\n",
    "                    if cat >= DS_SZ_BLANK:\n",
    "                        continue\n",
    "                if blankcnt >= DS_SZ_BLANK:\n",
    "                    continue\n",
    "                blankcnt += 1\n",
    "            #print('dbg2==')\n",
    "            dsimg_da, dsmask_da = None, None\n",
    "            if 'elastic_tfm' in data_aug:\n",
    "                dsimg_da, dsmask_da = elastic_transform(dsimg, maskr[dsx : dsx + img_sz[1], dsy : dsy + img_sz[0]]\n",
    "                                            , dsimg.shape[1] * 2, dsimg.shape[1] * 0.08, dsimg.shape[1] * 0.08)\n",
    "                \n",
    "            #print('dbg3==')\n",
    "            if RNDIDX:\n",
    "                cv2.imwrite(os.path.join(output_dir, imgdir, '%05d.%s' % (gen_idxs[total_cnt], suffix.split('.')[-1])), dsimg)\n",
    "                cv2.imwrite(os.path.join(output_dir, maskdir, '%05d_mask.%s' % (gen_idxs[total_cnt], suffix.split('.')[-1])), dsmask)\n",
    "                if dsimg_da is not None:\n",
    "                    cv2.imwrite(os.path.join(output_dir, imgdir, '%05d_da.%s' % (gen_idxs[total_cnt], suffix.split('.')[-1])), dsimg_da)\n",
    "                    cv2.imwrite(os.path.join(output_dir, maskdir, '%05d_da_mask.%s' % (gen_idxs[total_cnt], suffix.split('.')[-1])), dsmask_da)\n",
    "            else:\n",
    "                cv2.imwrite(os.path.join(output_dir, imgdir, '%05d.%s' % (total_cnt, suffix.split('.')[-1])), dsimg)\n",
    "                cv2.imwrite(os.path.join(output_dir, maskdir, '%05d_mask.%s' % (total_cnt, suffix.split('.')[-1])), dsmask)\n",
    "                if dsimg_da is not None:\n",
    "                    cv2.imwrite(os.path.join(output_dir, imgdir, '%05d_da.%s' % (total_cnt, suffix.split('.')[-1])), dsimg_da)\n",
    "                    cv2.imwrite(os.path.join(output_dir, maskdir, '%05d_da_mask.%s' % (total_cnt, suffix.split('.')[-1])), dsmask_da)\n",
    "\n",
    "            total_cnt += 1\n",
    "            #print('dbg8-----------------')\n",
    "            break\n"
   ]
  },
  {
   "cell_type": "markdown",
   "metadata": {},
   "source": [
    "# test"
   ]
  },
  {
   "cell_type": "code",
   "execution_count": 15,
   "metadata": {},
   "outputs": [],
   "source": [
    "imgfns = ['data/src/image/1.png', 'data/src/image/2.png', 'data/src/image/3.png']"
   ]
  },
  {
   "cell_type": "code",
   "execution_count": 16,
   "metadata": {},
   "outputs": [],
   "source": [
    "maskimgfns = ['data/label/train1_labels_8bits.png', 'data/label/train2_labels_8bits.png'\n",
    "             , 'data/label/train3_labels_8bits.png']"
   ]
  },
  {
   "cell_type": "code",
   "execution_count": 19,
   "metadata": {},
   "outputs": [
    {
     "data": {
      "text/html": [
       "\n",
       "    <div>\n",
       "        <style>\n",
       "            /* Turns off some styling */\n",
       "            progress {\n",
       "                /* gets rid of default border in Firefox and Opera. */\n",
       "                border: none;\n",
       "                /* Needs to be in here for Safari polyfill so background images work as expected. */\n",
       "                background-size: auto;\n",
       "            }\n",
       "            .progress-bar-interrupted, .progress-bar-interrupted::-webkit-progress-bar {\n",
       "                background: #F44336;\n",
       "            }\n",
       "        </style>\n",
       "      <progress value='200' class='' max='200', style='width:300px; height:20px; vertical-align: middle;'></progress>\n",
       "      100.00% [200/200 00:02<00:00 生成中]\n",
       "    </div>\n",
       "    "
      ],
      "text/plain": [
       "<IPython.core.display.HTML object>"
      ]
     },
     "metadata": {},
     "output_type": "display_data"
    }
   ],
   "source": [
    "gen_dataset(imgfns, maskimgfns, ds_sz = 200, suffix='png', output_dir = 'data/dataset_20200715') "
   ]
  },
  {
   "cell_type": "code",
   "execution_count": 22,
   "metadata": {
    "scrolled": false
   },
   "outputs": [
    {
     "data": {
      "text/html": [
       "\n",
       "    <div>\n",
       "        <style>\n",
       "            /* Turns off some styling */\n",
       "            progress {\n",
       "                /* gets rid of default border in Firefox and Opera. */\n",
       "                border: none;\n",
       "                /* Needs to be in here for Safari polyfill so background images work as expected. */\n",
       "                background-size: auto;\n",
       "            }\n",
       "            .progress-bar-interrupted, .progress-bar-interrupted::-webkit-progress-bar {\n",
       "                background: #F44336;\n",
       "            }\n",
       "        </style>\n",
       "      <progress value='2000' class='' max='2000', style='width:300px; height:20px; vertical-align: middle;'></progress>\n",
       "      100.00% [2000/2000 00:27<00:00 生成中]\n",
       "    </div>\n",
       "    "
      ],
      "text/plain": [
       "<IPython.core.display.HTML object>"
      ]
     },
     "metadata": {},
     "output_type": "display_data"
    }
   ],
   "source": [
    "gen_dataset(imgfns, maskimgfns, ds_sz = 2000, suffix='png', output_dir = 'data/dataset_20200715_2000') "
   ]
  },
  {
   "cell_type": "code",
   "execution_count": null,
   "metadata": {},
   "outputs": [],
   "source": [
    "gen_dataset(imgfns, maskimgfns, ds_sz = 200, suffix='png', output_dir = 'data/dataset_20200715_200_da', data_aug = ['elastic_tfm']) "
   ]
  },
  {
   "cell_type": "markdown",
   "metadata": {},
   "source": [
    "# export"
   ]
  },
  {
   "cell_type": "code",
   "execution_count": null,
   "metadata": {},
   "outputs": [],
   "source": []
  }
 ],
 "metadata": {
  "kernelspec": {
   "display_name": "Python 3",
   "language": "python",
   "name": "python3"
  },
  "language_info": {
   "codemirror_mode": {
    "name": "ipython",
    "version": 3
   },
   "file_extension": ".py",
   "mimetype": "text/x-python",
   "name": "python",
   "nbconvert_exporter": "python",
   "pygments_lexer": "ipython3",
   "version": "3.7.2"
  }
 },
 "nbformat": 4,
 "nbformat_minor": 4
}
