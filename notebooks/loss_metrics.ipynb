{
 "cells": [
  {
   "cell_type": "code",
   "execution_count": 1,
   "metadata": {},
   "outputs": [],
   "source": [
    "%load_ext autoreload\n",
    "%autoreload 2\n",
    "\n",
    "%matplotlib inline"
   ]
  },
  {
   "cell_type": "markdown",
   "metadata": {
    "heading_collapsed": true
   },
   "source": [
    "# import"
   ]
  },
  {
   "cell_type": "code",
   "execution_count": 2,
   "metadata": {
    "hidden": true
   },
   "outputs": [],
   "source": [
    "# export\n",
    "import torch"
   ]
  },
  {
   "cell_type": "code",
   "execution_count": 3,
   "metadata": {
    "hidden": true
   },
   "outputs": [],
   "source": [
    "# export\n",
    "from torch.nn import functional as F"
   ]
  },
  {
   "cell_type": "code",
   "execution_count": 4,
   "metadata": {
    "hidden": true
   },
   "outputs": [],
   "source": [
    "# export\n",
    "from torch import tensor"
   ]
  },
  {
   "cell_type": "code",
   "execution_count": 5,
   "metadata": {
    "hidden": true
   },
   "outputs": [],
   "source": [
    "from matplotlib import pyplot as plt"
   ]
  },
  {
   "cell_type": "code",
   "execution_count": 6,
   "metadata": {
    "hidden": true
   },
   "outputs": [],
   "source": [
    "from IPython.core import debugger as idb"
   ]
  },
  {
   "cell_type": "code",
   "execution_count": 7,
   "metadata": {
    "hidden": true
   },
   "outputs": [],
   "source": [
    "# export\n",
    "import numpy as np"
   ]
  },
  {
   "cell_type": "markdown",
   "metadata": {},
   "source": [
    "# functions"
   ]
  },
  {
   "cell_type": "markdown",
   "metadata": {},
   "source": [
    "## dice_loss"
   ]
  },
  {
   "cell_type": "code",
   "execution_count": 8,
   "metadata": {},
   "outputs": [],
   "source": [
    "# export\n",
    "def dice_coef(input, target):\n",
    "    smooth = 1.\n",
    "    \n",
    "    pred = input.sigmoid()\n",
    "    target = target.float()\n",
    "    \n",
    "    return ((2. * (pred * target).sum() + smooth) / (pred.sum() + target.sum() +smooth))"
   ]
  },
  {
   "cell_type": "code",
   "execution_count": 9,
   "metadata": {},
   "outputs": [],
   "source": [
    "# export\n",
    "def dice_loss(input, target):\n",
    "    return 1 - dice_coef(input, target)"
   ]
  },
  {
   "cell_type": "markdown",
   "metadata": {},
   "source": [
    "## balance_bce"
   ]
  },
  {
   "cell_type": "code",
   "execution_count": 10,
   "metadata": {},
   "outputs": [],
   "source": [
    "# export\n",
    "def weighted_bce(input, target, pos_weight=0):\n",
    "    \"\"\"\n",
    "    pos_weight: positive weight relative to negative weight(which is 1)\n",
    "    \"\"\"\n",
    "    mask = target.float()\n",
    "    \n",
    "    if pos_weight>0:\n",
    "        weight = (mask*pos_weight + (1-mask))\n",
    "        weight = weight/weight.sum()*mask.numel()\n",
    "        return F.binary_cross_entropy_with_logits(input, mask, weight=weight)\n",
    "    else:\n",
    "        return F.binary_cross_entropy_with_logits(input, mask)"
   ]
  },
  {
   "cell_type": "code",
   "execution_count": 11,
   "metadata": {},
   "outputs": [],
   "source": [
    "# export\n",
    "def balance_bce(input, target, balance_ratio=0):\n",
    "    \"\"\"\n",
    "    Auto adjust positive/negative ration as set by balance_ratio.\n",
    "    \"\"\"\n",
    "    mask = target.float()\n",
    "    if balance_ratio>0:\n",
    "        posN = mask.sum().clamp(1)\n",
    "        negN = (1-mask).sum().clamp(1)\n",
    "        pos_weight = balance_ratio*negN/posN\n",
    "        return weighted_bce(input, mask, pos_weight)\n",
    "    else:\n",
    "        return weighted_bce(input, mask)"
   ]
  },
  {
   "cell_type": "markdown",
   "metadata": {},
   "source": [
    "## combo_loss"
   ]
  },
  {
   "cell_type": "code",
   "execution_count": 12,
   "metadata": {},
   "outputs": [],
   "source": [
    "# export\n",
    "def combo_loss(input,target,balance_ratio=0):\n",
    "    return dice_loss(input,target)+balance_bce(input,target,balance_ratio)"
   ]
  },
  {
   "cell_type": "markdown",
   "metadata": {},
   "source": [
    "## mask_iou"
   ]
  },
  {
   "cell_type": "code",
   "execution_count": 13,
   "metadata": {},
   "outputs": [],
   "source": [
    "# export\n",
    "def mask_iou(input, target):\n",
    "    \"\"\"\n",
    "    iou for segmentation\n",
    "    \"\"\"\n",
    "    pred_mask = input>0\n",
    "    target_mask = target>0\n",
    "    \n",
    "    i = (pred_mask&target_mask).float().sum()\n",
    "    u = (pred_mask|target_mask).float().sum()\n",
    "    return i/u"
   ]
  },
  {
   "cell_type": "markdown",
   "metadata": {},
   "source": [
    "# test"
   ]
  },
  {
   "cell_type": "markdown",
   "metadata": {},
   "source": [
    "## dice_loss"
   ]
  },
  {
   "cell_type": "code",
   "execution_count": 14,
   "metadata": {},
   "outputs": [
    {
     "data": {
      "text/plain": [
       "(tensor(0.5004), tensor(0.4996))"
      ]
     },
     "execution_count": 14,
     "metadata": {},
     "output_type": "execute_result"
    }
   ],
   "source": [
    "x = torch.randn((4,1,512,512))\n",
    "y = torch.randint_like(x,0,2)\n",
    "\n",
    "dice_coef(x,y),dice_loss(x,y)"
   ]
  },
  {
   "cell_type": "markdown",
   "metadata": {},
   "source": [
    "## balance_bce"
   ]
  },
  {
   "cell_type": "code",
   "execution_count": 15,
   "metadata": {},
   "outputs": [],
   "source": [
    "x = torch.randn((4,1,512,512))+2 # 让x平均值为2，则概率sigmoid(x)的平均值>0.5，所以正例的损失小，负例的损失大\n",
    "y = (torch.randint_like(x,0,3)>0).type(torch.float32) # 让正例占2/3，负例1/3"
   ]
  },
  {
   "cell_type": "code",
   "execution_count": 16,
   "metadata": {},
   "outputs": [
    {
     "data": {
      "text/plain": [
       "(tensor(0.8477), tensor(0.8477))"
      ]
     },
     "execution_count": 16,
     "metadata": {},
     "output_type": "execute_result"
    }
   ],
   "source": [
    "weighted_bce(x,y), balance_bce(x,y)"
   ]
  },
  {
   "cell_type": "code",
   "execution_count": 17,
   "metadata": {},
   "outputs": [
    {
     "data": {
      "text/plain": [
       "(tensor(1.1806), tensor(1.1823))"
      ]
     },
     "execution_count": 17,
     "metadata": {},
     "output_type": "execute_result"
    }
   ],
   "source": [
    "weighted_bce(x,y,0.5), balance_bce(x,y,1)"
   ]
  },
  {
   "cell_type": "markdown",
   "metadata": {},
   "source": [
    "## combo_loss"
   ]
  },
  {
   "cell_type": "code",
   "execution_count": 18,
   "metadata": {},
   "outputs": [
    {
     "data": {
      "text/plain": [
       "(tensor(1.3072), tensor(1.3072))"
      ]
     },
     "execution_count": 18,
     "metadata": {},
     "output_type": "execute_result"
    }
   ],
   "source": [
    "x = torch.randn((4,1,512,512))\n",
    "y = torch.randint_like(x,0,2)\n",
    "\n",
    "combo_loss(x,y,2), dice_loss(x,y)+balance_bce(x,y,2)"
   ]
  },
  {
   "cell_type": "markdown",
   "metadata": {},
   "source": [
    "## mask_iou"
   ]
  },
  {
   "cell_type": "code",
   "execution_count": 19,
   "metadata": {},
   "outputs": [
    {
     "data": {
      "text/plain": [
       "tensor(0.3334)"
      ]
     },
     "execution_count": 19,
     "metadata": {},
     "output_type": "execute_result"
    }
   ],
   "source": [
    "x = torch.randn((4,1,512,512))\n",
    "y = torch.randint_like(x,0,2)\n",
    "mask_iou(x,y)"
   ]
  },
  {
   "cell_type": "markdown",
   "metadata": {},
   "source": [
    "x有50%正，y有50%正，二者交集为25%，二者并集为75%，所以交集/并集=1/3"
   ]
  },
  {
   "cell_type": "markdown",
   "metadata": {},
   "source": [
    "# export"
   ]
  },
  {
   "cell_type": "code",
   "execution_count": 20,
   "metadata": {
    "scrolled": true
   },
   "outputs": [
    {
     "name": "stdout",
     "output_type": "stream",
     "text": [
      "Converted loss_metrics.ipynb to exp/nb_loss_metrics.py\r\n"
     ]
    }
   ],
   "source": [
    "!python ../notebook2script.py --fname 'loss_metrics.ipynb' --outputDir '../exp/'"
   ]
  }
 ],
 "metadata": {
  "kernelspec": {
   "display_name": "Python 3",
   "language": "python",
   "name": "python3"
  },
  "language_info": {
   "codemirror_mode": {
    "name": "ipython",
    "version": 3
   },
   "file_extension": ".py",
   "mimetype": "text/x-python",
   "name": "python",
   "nbconvert_exporter": "python",
   "pygments_lexer": "ipython3",
   "version": "3.7.2"
  },
  "toc": {
   "base_numbering": 1,
   "nav_menu": {},
   "number_sections": true,
   "sideBar": true,
   "skip_h1_title": false,
   "title_cell": "Table of Contents",
   "title_sidebar": "Contents",
   "toc_cell": false,
   "toc_position": {},
   "toc_section_display": true,
   "toc_window_display": false
  }
 },
 "nbformat": 4,
 "nbformat_minor": 2
}
